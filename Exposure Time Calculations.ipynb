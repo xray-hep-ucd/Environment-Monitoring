{
 "cells": [
  {
   "cell_type": "code",
   "execution_count": 1,
   "metadata": {},
   "outputs": [],
   "source": [
    "# Import libraries\n",
    "import numpy as np\n",
    "import matplotlib.pyplot as plt\n",
    "\n"
   ]
  },
  {
   "cell_type": "code",
   "execution_count": 2,
   "metadata": {},
   "outputs": [],
   "source": [
    "# Constants\n",
    "\n",
    "# To convert amps to electrons/second\n",
    "Amp_conversion = 6242000000000000000\n",
    "\n",
    "# To convert eV to J\n",
    "eVtoJ = 1.602*10**(-19)\n"
   ]
  },
  {
   "cell_type": "code",
   "execution_count": 50,
   "metadata": {},
   "outputs": [
    {
     "name": "stdout",
     "output_type": "stream",
     "text": [
      "Enter the mass of the sample in grams: 5\n",
      "Enter the pressure in hPa: 1001\n",
      "Enter the ion chamber current in uA: 0.026\n",
      "Enter the ion chamber voltage in V: 600\n"
     ]
    }
   ],
   "source": [
    "# Define Variables\n",
    "\n",
    "# Mass of sample in g\n",
    "Mass = float(input(\"Enter the mass of the sample in grams: \"))\n",
    "\n",
    "# Pressure from arduino in hPa\n",
    "Pressure = float(input(\"Enter the pressure in hPa: \"))\n",
    "\n",
    "# Ion chamber current in uA\n",
    "# THIS WILL BE CHANGED TO PULL DIRECTLY FROM DATA\n",
    "ICC = float(input(\"Enter the ion chamber current in uA: \"))\n",
    "\n",
    "# Ion chamber voltage in V\n",
    "ICV = float(input(\"Enter the ion chamber voltage in V: \"))\n",
    "\n"
   ]
  },
  {
   "cell_type": "code",
   "execution_count": 51,
   "metadata": {},
   "outputs": [
    {
     "name": "stdout",
     "output_type": "stream",
     "text": [
      "Ion chamber energy from simulation: 16.7429 MeV\n",
      "Sample energy from simulation: 2082.31 MeV\n",
      "Base plate energy from simulation: 302.636 MeV\n"
     ]
    }
   ],
   "source": [
    "# Define energy deposited in each volume in MeV /dependent on pressure/ {will eventually also be dependent on type of sample}\n",
    "# Order: \n",
    "#Air gap 1 (0), Filter 1 (1), Air gap 2 (2), Ion chamber (3), Air Gap 3 (4), Filter 2 (5), Sample (6), Base plate (7), Lead (8)\n",
    "\n",
    "energy_950 = np.array([270.786,4180.09,23.93,14.6672,194.695,0.913014,2092.23,7150.23,300.463])\n",
    "energy_960 = np.array([243.673,4183.06,23.8851,14.66,193.927,0.935799,2086.44,7163.87,300.88])\n",
    "energy_970 = np.array([244.002,4183.19,24.5575,14.8582,194.312,1.14376,2084.84,7160.45,300.463])\n",
    "energy_980 = np.array([247.596,4171.15,24.5962,15.5105,197.951,0.913825,2092.69,7161.44,309.392])\n",
    "energy_990 = np.array([253.429,4170.19,25.5636,16.3619,201.583,1.08333,2080.93,7147.13,300.477])\n",
    "energy_1000 = np.array([252.715,4170.77,24.9228,16.0385,204.315,0.989544,2086.11,7138.99,299.201])\n",
    "energy_1010 = np.array([251.368,4171.01,25.9489,16.7429,201.616,1.04942,2082.31,7157.9,302.636])\n",
    "energy_1020 = np.array([257.498,4158.59,25.6519,15.9698,206.338,0.902671,2076.9,7164.64,304.894])\n",
    "energy_1030 = np.array([258.09,4171.83,24.579,16.1044,207.454,1.1401,2069.69,7140.85,304.053])\n",
    "energy_1040 = np.array([264.564,4167.19,25.6355,17.1103,210.555,105916,2082.84,7127.48,297.731])\n",
    "energy_1050 = np.array([266.031,4165.88,26.1322,15.7317,211.678,1.1884,2071.53,7127.01,299.969])\n",
    "\n",
    "\n",
    "# Determine correct data set to use based on pressure\n",
    "\n",
    "if Pressure <= 950.0:\n",
    "    x = energy_950\n",
    "elif Pressure <= 960.0:\n",
    "    x = energy_960\n",
    "elif Pressure <= 970.0:\n",
    "    x = energy_970\n",
    "elif Pressure <= 980.0:\n",
    "    x = energy_980\n",
    "elif Pressure <= 990.0:\n",
    "    x = energy_990\n",
    "elif Pressure <= 1000.0:\n",
    "    x = energy_1000\n",
    "elif Pressure <= 1010.0:\n",
    "    x = energy_1010\n",
    "elif Pressure <= 1020.0:\n",
    "    x = energy_1020\n",
    "elif Pressure <= 1030.0:\n",
    "    x = energy_1030\n",
    "elif Pressure <= 1040.0:\n",
    "    x = energy_1040\n",
    "else:\n",
    "    x = energy_1050\n",
    "\n",
    "# Define important values from energy data\n",
    "\n",
    "# Ion chamber energy\n",
    "ICE = x[3]\n",
    "\n",
    "print(\"Ion chamber energy from simulation:\", ICE, \"MeV\")\n",
    "\n",
    "# Sample energy\n",
    "Energy_Sample = x[6]\n",
    "\n",
    "print(\"Sample energy from simulation:\", Energy_Sample, \"MeV\")\n",
    "\n",
    "# Base plate energy\n",
    "Energy_BP = x[8]\n",
    "\n",
    "print(\"Base plate energy from simulation:\", Energy_BP, \"MeV\")\n"
   ]
  },
  {
   "cell_type": "code",
   "execution_count": 52,
   "metadata": {},
   "outputs": [
    {
     "name": "stdout",
     "output_type": "stream",
     "text": [
      "Days to reach 15MGy: 447.41261095484293\n"
     ]
    }
   ],
   "source": [
    "# Calculate time from IC power and ICE\n",
    "\n",
    "ICPower = ICC*ICV*10**(-6) # W\n",
    "\n",
    "ICE_J = ICE*eVtoJ*10**6 # J\n",
    "\n",
    "TimetoICE = ICE_J/ICPower #seconds\n",
    "\n",
    "CyclesperH = 3600/TimetoICE # #/hour\n",
    "\n",
    "# Calculate energy in sample per hour\n",
    "\n",
    "EinSample_MeV = CyclesperH*Energy_Sample # MeV/h\n",
    "\n",
    "Energy_Sample_J = Energy_Sample*eVtoJ*10**6 # J\n",
    "\n",
    "EinSample_J = CyclesperH*Energy_Sample_J # J/h\n",
    "\n",
    "# Calculate MGy/hr\n",
    "\n",
    "MGy_hr = EinSample_J/(Mass*10**(-3))*10**(-6)\n",
    "\n",
    "Hours = 15/MGy_hr\n",
    "\n",
    "Days = Hours/24\n",
    "\n",
    "print(\"Days to reach 15MGy:\", Days)"
   ]
  },
  {
   "cell_type": "code",
   "execution_count": null,
   "metadata": {},
   "outputs": [],
   "source": []
  }
 ],
 "metadata": {
  "kernelspec": {
   "display_name": "Python 3",
   "language": "python",
   "name": "python3"
  },
  "language_info": {
   "codemirror_mode": {
    "name": "ipython",
    "version": 3
   },
   "file_extension": ".py",
   "mimetype": "text/x-python",
   "name": "python",
   "nbconvert_exporter": "python",
   "pygments_lexer": "ipython3",
   "version": "3.8.5"
  }
 },
 "nbformat": 4,
 "nbformat_minor": 4
}
