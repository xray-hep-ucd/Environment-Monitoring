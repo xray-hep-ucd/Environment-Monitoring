{
  "nbformat": 4,
  "nbformat_minor": 0,
  "metadata": {
    "colab": {
      "name": "AnalysisTools.ipynb",
      "private_outputs": true,
      "provenance": [],
      "collapsed_sections": [],
      "authorship_tag": "ABX9TyOmuxDOJE6/L2EVqbgCYWrg",
      "include_colab_link": true
    },
    "kernelspec": {
      "name": "python3",
      "display_name": "Python 3"
    },
    "language_info": {
      "name": "python"
    }
  },
  "cells": [
    {
      "cell_type": "markdown",
      "metadata": {
        "id": "view-in-github",
        "colab_type": "text"
      },
      "source": [
        "<a href=\"https://colab.research.google.com/github/xray-hep-ucd/Environment-Monitoring/blob/analysis/AnalysisTools.ipynb\" target=\"_parent\"><img src=\"https://colab.research.google.com/assets/colab-badge.svg\" alt=\"Open In Colab\"/></a>"
      ]
    },
    {
      "cell_type": "markdown",
      "source": [
        "# Analysis Tools\n",
        "\n",
        "\n",
        "Tools for post run analysis of enviroment data"
      ],
      "metadata": {
        "id": "oGwazCvhKmks"
      }
    },
    {
      "cell_type": "markdown",
      "source": [
        "# Setup"
      ],
      "metadata": {
        "id": "HzqMDBQ2Lb_Q"
      }
    },
    {
      "cell_type": "markdown",
      "source": [
        "## General Setup"
      ],
      "metadata": {
        "id": "5T5tx1YQL9tz"
      }
    },
    {
      "cell_type": "code",
      "source": [
        "import sys\n",
        "import os\n",
        "import numpy as np\n",
        "import matplotlib.pyplot as plt\n",
        "import pandas as pd"
      ],
      "metadata": {
        "id": "tCAY9C6HMBk5"
      },
      "execution_count": null,
      "outputs": []
    },
    {
      "cell_type": "markdown",
      "source": [
        "## Google Colab Setup"
      ],
      "metadata": {
        "id": "4ujZd8Y7LnDH"
      }
    },
    {
      "cell_type": "code",
      "source": [
        "#Mount Google Drive\n",
        "try:\n",
        "    from google.colab import drive\n",
        "    drive.mount(\"/content/drive\", force_remount=False)\n",
        "    main_path = '/content/drive/MyDrive/'\n",
        "except:\n",
        "    main_path = ''\n",
        "sys.path.append(main_path)"
      ],
      "metadata": {
        "id": "qTPCFny_LtBi"
      },
      "execution_count": null,
      "outputs": []
    },
    {
      "cell_type": "code",
      "source": [
        "main_path += \"/Project Death Ray/Monitoring/\"\n",
        "main_path"
      ],
      "metadata": {
        "id": "WovO3_Ez-1IB"
      },
      "execution_count": null,
      "outputs": []
    },
    {
      "cell_type": "markdown",
      "source": [
        "# Class and Utility Function Definitions"
      ],
      "metadata": {
        "id": "Psqnfl06NLCj"
      }
    },
    {
      "cell_type": "markdown",
      "source": [
        "## Time Manipulation Utilities"
      ],
      "metadata": {
        "id": "dwimSYh8jv_-"
      }
    },
    {
      "cell_type": "code",
      "source": [
        "#Return the hours, minutes, seconds of the passed time as ints\n",
        "def splitTimes(timeStr):\n",
        "    splitTs = timeStr.split(\":\")\n",
        "    return int(splitTs[0]), int(splitTs[1]), int(splitTs[2])\n",
        "\n",
        "#Return time in seconds\n",
        "def asSeconds(time):\n",
        "    hr, min, sec = splitTimes(time)\n",
        "    return (hr*3600) + (min*60) + sec\n",
        "\n",
        "def asMinutes(time):\n",
        "    hr, min, sec = splitTimes(time)\n",
        "    return (hr*60) + min + (sec / 60.0)\n",
        "\n",
        "#Subtract return time1-time2\n",
        "#If asSec=False, returns as hh:mm:ss as a str\n",
        "#If asSec=False, returns as total seconds as an int\n",
        "def timeDiff(time1, time2, asSec=False):\n",
        "    hr1, min1, sec1 = splitTimes(time1)\n",
        "    hr2, min2, sec2 = splitTimes(time2)\n",
        "    hrDiff = hr1 - hr2\n",
        "    minDiff = min1 - min2\n",
        "    secDiff = sec1 - sec2\n",
        "    if secDiff < 0:\n",
        "        minDiff -= 1\n",
        "        secDiff += 60\n",
        "    if minDiff < 0:\n",
        "        hrDiff -= 1\n",
        "        minDiff += 60\n",
        "    \n",
        "    timeDiff = str(hrDiff) + \":\" + str(minDiff) + \":\" + str(secDiff)\n",
        "    if asSec:\n",
        "        return asSeconds(timeDiff)\n",
        "    else:\n",
        "        return timeDiff\n",
        "\n",
        "    \n",
        "    "
      ],
      "metadata": {
        "id": "EbpGHGT-Ke7f"
      },
      "execution_count": null,
      "outputs": []
    },
    {
      "cell_type": "markdown",
      "source": [
        "## Class Definitions"
      ],
      "metadata": {
        "id": "Fl-UIeuZj2MU"
      }
    },
    {
      "cell_type": "code",
      "source": [
        "\n",
        "#A class to store monitoring data from a run\n",
        "#Data is stored in a Pandas Dataframe\n",
        "class Run:\n",
        "\n",
        "    name = \"\" \n",
        "    filepath = \"\"\n",
        "    data = None #A Pandas Dataframe storing the events\n",
        "    nEvents = 0\n",
        "\n",
        "\n",
        "    def __init__(self, name = \"\"):\n",
        "        self.name = name\n",
        "\n",
        "\n",
        "    #Attempt to read the file in filepath into a Pandas DF\n",
        "    def readFile(self, filepath):\n",
        "        self.filepath = filepath\n",
        "        if self.name == \"\":\n",
        "            self.name = filepath\n",
        "        \n",
        "        self.data = pd.read_csv(filepath, header=0, usecols=[0,1,2,3,4,5,6])\n",
        "        self.nEvents = self.data.shape[0]\n",
        "    \n",
        "\n",
        "    #Append data in filepath to the current dataframe\n",
        "    def addFile(self, filepath):\n",
        "        if self.filepath == \"\":\n",
        "            self.readFile(filepath)\n",
        "        else:\n",
        "            if isinstance(self.filepath, str):\n",
        "                temp = self.filepath\n",
        "                self.filepath = []\n",
        "                self.filepath.append(temp)\n",
        "            self.append(filepath)\n",
        "            newDF = pd.read_csv(filepath, header=0, usecols=[0,1,2,3,4,5,6])\n",
        "            self.data.append(newDF)\n",
        "\n",
        "\n",
        "    #Drop events which are incomplete from the dataframe\n",
        "    #if how=\"all\", drops only rows which are entirely NA\n",
        "    #if how=\"any\" (default) drops all rows which have an NA\n",
        "    #if resetIndex=True (default), index is reset to be sequential [0, nEvents-1],\n",
        "    #if resetIndex=False otherwise leaves original row number as index\n",
        "    def dropIncompleteEvents(self, how=\"any\", resetIndex=True):\n",
        "        self.data.dropna(inplace=True, how=how)\n",
        "        self.nEvents = self.data.shape[0]\n",
        "        if resetIndex:\n",
        "            self.data.reset_index(inplace=True, drop=True)\n",
        "\n",
        "    \n",
        "    #Def drop unwanted rows or columns from the data\n",
        "    #labels : a single label (e.g row number in index of column name) or list of such to drop\n",
        "    #axis : 0= drop row(s) (default), 1= drop column(s)\n",
        "    def drop(self, labels, axis=0, resetIndex = True):\n",
        "        self.data.drop(labels, axis=axis, inplace=True)\n",
        "        self.nEvents = self.data.shape[0]\n",
        "        if resetIndex:\n",
        "            self.data.reset_index(inplace=True, drop=True)\n",
        "\n",
        "\n",
        "    #Return a list of column names\n",
        "    def getCols(self):\n",
        "        return self.data.columns\n",
        "\n",
        "\n",
        "    #Retrieve a column(s) from the dataframe\n",
        "    #colNames should be either a column name or list of column names\n",
        "    def get(self, colNames, timeUnits=\"\"):\n",
        "        return self.data[colName]\n",
        "\n",
        "\n",
        "    #Add a column for time in specificed units, either \"s\" (seconds) (default) or \"m\" (minutes)\n",
        "    def addTimeCol(self, units=\"s\"):\n",
        "        timeDefault = self.get(\"Time [hh:mm:ss]\")\n",
        "        if units == \"s\":\n",
        "            timeNew = timeDefault.apply(asSeconds)\n",
        "        elif units == \"m\":\n",
        "            timeNew = timeDefault.apply(asMinutes)\n",
        "        else:\n",
        "            print(\"Unrecognized time units, use either 's' for seconds or 'm' for minutes\")\n",
        "            return\n",
        "        self.data[\"Time [\" + units + \"]\"] = timeNew\n",
        "\n",
        "\n",
        "    #Return the total time duration of the run\n",
        "    def duration(self, asSec=False, startInd=0, endInd=-1):\n",
        "        if endInd < startInd:\n",
        "            endInd = self.nEvents - 1\n",
        "        startTime = self.data.at[startInd, \"Time [hh:mm:ss]\"]\n",
        "        endTime = self.data.at[endInd, \"Time [hh:mm:ss]\"]\n",
        "        return timeDiff(endTime, startTime, asSec)\n",
        "\n",
        "\n"
      ],
      "metadata": {
        "id": "zJLc2693NRUJ"
      },
      "execution_count": null,
      "outputs": []
    },
    {
      "cell_type": "markdown",
      "source": [
        "# Examples and Testing"
      ],
      "metadata": {
        "id": "8pWh72_4khSe"
      }
    },
    {
      "cell_type": "markdown",
      "source": [
        "## Read a file into a Run object"
      ],
      "metadata": {
        "id": "KPnrgl0pChIf"
      }
    },
    {
      "cell_type": "code",
      "source": [
        "testRun = Run(\"Test Run\")\n",
        "filepath = main_path + \"testFile.csv\"\n",
        "testRun.readFile(filepath)\n",
        "testRun.dropIncompleteEvents(how=\"any\")\n",
        "testRun.data\n"
      ],
      "metadata": {
        "id": "fTZU_NxlkjKs"
      },
      "execution_count": null,
      "outputs": []
    },
    {
      "cell_type": "markdown",
      "source": [
        "## Examples with times"
      ],
      "metadata": {
        "id": "ipHyyfogCsUn"
      }
    },
    {
      "cell_type": "code",
      "source": [
        "dur = testRun.duration(asSec=False, startInd=20, endInd=21)\n",
        "dur"
      ],
      "metadata": {
        "id": "9-NxeRYZl6J7"
      },
      "execution_count": null,
      "outputs": []
    },
    {
      "cell_type": "code",
      "source": [
        "testRun.addTimeCol(units=\"s\")\n",
        "testRun.addTimeCol(units=\"m\")\n",
        "testRun.data"
      ],
      "metadata": {
        "id": "GGt0MNMz81JX"
      },
      "execution_count": null,
      "outputs": []
    },
    {
      "cell_type": "markdown",
      "source": [
        "## Try Dropping Unwanted Rows"
      ],
      "metadata": {
        "id": "IOISKQGXFsvU"
      }
    },
    {
      "cell_type": "code",
      "source": [
        "testRun.drop(9, axis=0, resetIndex=True) #Drop row 9 and relabel rows sequentially\n",
        "testRun.data"
      ],
      "metadata": {
        "id": "AZg5n2kpFsVT"
      },
      "execution_count": null,
      "outputs": []
    },
    {
      "cell_type": "markdown",
      "source": [
        "## Plotting Using Built-Int Pandas Features"
      ],
      "metadata": {
        "id": "eO2nCzizCz-1"
      }
    },
    {
      "cell_type": "code",
      "source": [
        "testRun.data.plot(x=\"Time [s]\", y=testRun.getCols()[1:5], kind=\"line\", subplots=True, figsize=(10,10), title=\"Temperatures for Run=\" + testRun.name, ylabel=\"[C]\")"
      ],
      "metadata": {
        "id": "kYfY3ect9tA2"
      },
      "execution_count": null,
      "outputs": []
    }
  ]
}