{
  "nbformat": 4,
  "nbformat_minor": 0,
  "metadata": {
    "colab": {
      "name": "AnalysisTools.ipynb",
      "private_outputs": true,
      "provenance": [],
      "collapsed_sections": [],
      "authorship_tag": "ABX9TyNEmUz468rWT3ruWxtE0L27",
      "include_colab_link": true
    },
    "kernelspec": {
      "name": "python3",
      "display_name": "Python 3"
    },
    "language_info": {
      "name": "python"
    }
  },
  "cells": [
    {
      "cell_type": "markdown",
      "metadata": {
        "id": "view-in-github",
        "colab_type": "text"
      },
      "source": [
        "<a href=\"https://colab.research.google.com/github/xray-hep-ucd/Environment-Monitoring/blob/main/AnalysisTools.ipynb\" target=\"_parent\"><img src=\"https://colab.research.google.com/assets/colab-badge.svg\" alt=\"Open In Colab\"/></a>"
      ]
    },
    {
      "cell_type": "markdown",
      "source": [
        "# Analysis Tools\n",
        "\n",
        "\n",
        "Tools for post run analysis of enviroment data"
      ],
      "metadata": {
        "id": "oGwazCvhKmks"
      }
    },
    {
      "cell_type": "markdown",
      "source": [
        "# Setup"
      ],
      "metadata": {
        "id": "HzqMDBQ2Lb_Q"
      }
    },
    {
      "cell_type": "markdown",
      "source": [
        "## General Setup"
      ],
      "metadata": {
        "id": "5T5tx1YQL9tz"
      }
    },
    {
      "cell_type": "code",
      "source": [
        "import sys\n",
        "import os\n",
        "import numpy as np\n",
        "import matplotlib.pyplot as plt\n",
        "import pandas as pd"
      ],
      "metadata": {
        "id": "tCAY9C6HMBk5"
      },
      "execution_count": null,
      "outputs": []
    },
    {
      "cell_type": "markdown",
      "source": [
        "## Google Colab Setup"
      ],
      "metadata": {
        "id": "4ujZd8Y7LnDH"
      }
    },
    {
      "cell_type": "code",
      "source": [
        "#Mount Google Drive\n",
        "try:\n",
        "    from google.colab import drive\n",
        "    drive.mount(\"/content/drive\", force_remount=False)\n",
        "    main_path = '/content/drive/MyDrive/'\n",
        "except:\n",
        "    main_path = ''\n",
        "sys.path.append(main_path)"
      ],
      "metadata": {
        "id": "qTPCFny_LtBi"
      },
      "execution_count": null,
      "outputs": []
    },
    {
      "cell_type": "code",
      "source": [
        "main_path += \"/Project DR-1/Monitoring/\"\n",
        "main_path"
      ],
      "metadata": {
        "id": "WovO3_Ez-1IB"
      },
      "execution_count": null,
      "outputs": []
    },
    {
      "cell_type": "markdown",
      "source": [
        "# Class and Utility Function Definitions"
      ],
      "metadata": {
        "id": "Psqnfl06NLCj"
      }
    },
    {
      "cell_type": "markdown",
      "source": [
        "## Time Manipulation Utilities"
      ],
      "metadata": {
        "id": "dwimSYh8jv_-"
      }
    },
    {
      "cell_type": "code",
      "source": [
        "#Splits times of the format hh:mm:ss into components\n",
        "#Return the hours, minutes, seconds of the passed time as ints\n",
        "def splitTimes(timeStr):\n",
        "    splitTs = timeStr.split(\":\")\n",
        "    return int(splitTs[0]), int(splitTs[1]), int(splitTs[2])\n",
        "\n",
        "#Return time in seconds\n",
        "def asSeconds(time):\n",
        "    hr, min, sec = splitTimes(time)\n",
        "    return (hr*3600) + (min*60) + sec\n",
        "\n",
        "#Return time in minutes\n",
        "def asMinutes(time):\n",
        "    hr, min, sec = splitTimes(time)\n",
        "    return (hr*60) + min + (sec / 60.0)\n",
        "\n",
        "#Subtract return time1-time2\n",
        "#If asSec=False, returns as hh:mm:ss as a str\n",
        "#If asSec=False, returns as total seconds as an int\n",
        "def timeDiff(time1, time2, asSec=False):\n",
        "    hr1, min1, sec1 = splitTimes(time1)\n",
        "    hr2, min2, sec2 = splitTimes(time2)\n",
        "    hrDiff = hr1 - hr2\n",
        "    minDiff = min1 - min2\n",
        "    secDiff = sec1 - sec2\n",
        "    if secDiff < 0:\n",
        "        minDiff -= 1\n",
        "        secDiff += 60\n",
        "    if minDiff < 0:\n",
        "        hrDiff -= 1\n",
        "        minDiff += 60\n",
        "    \n",
        "    timeDiff = str(hrDiff) + \":\" + str(minDiff) + \":\" + str(secDiff)\n",
        "    if asSec:\n",
        "        return asSeconds(timeDiff)\n",
        "    else:\n",
        "        return timeDiff\n",
        "\n",
        "    \n",
        "    "
      ],
      "metadata": {
        "id": "EbpGHGT-Ke7f"
      },
      "execution_count": null,
      "outputs": []
    },
    {
      "cell_type": "markdown",
      "source": [
        "## Class Definitions"
      ],
      "metadata": {
        "id": "Fl-UIeuZj2MU"
      }
    },
    {
      "cell_type": "code",
      "source": [
        "\n",
        "#A class to store data from the Arduino read sensor\n",
        "#Data is stored in a Pandas Dataframe\n",
        "class SensorRun:\n",
        "\n",
        "    name = \"\" \n",
        "    filepath = \"\"\n",
        "    data = None #A Pandas Dataframe storing the events\n",
        "    nEvents = 0\n",
        "\n",
        "\n",
        "    def __init__(self, name = \"\"):\n",
        "        self.name = name\n",
        "\n",
        "\n",
        "    #Attempt to read the file in filepath into a Pandas DF\n",
        "    def readFile(self, filepath):\n",
        "        self.filepath = filepath\n",
        "        if self.name == \"\":\n",
        "            self.name = filepath\n",
        "        \n",
        "        self.data = pd.read_csv(filepath, header=0, usecols=[0,1,2,3,4,5,6])\n",
        "        self.nEvents = self.data.shape[0]\n",
        "    \n",
        "\n",
        "    #Append data in filepath to the current dataframe\n",
        "    def addFile(self, filepath):\n",
        "        if self.filepath == \"\":\n",
        "            self.readFile(filepath)\n",
        "        else:\n",
        "            if isinstance(self.filepath, str):\n",
        "                temp = self.filepath\n",
        "                self.filepath = []\n",
        "                self.filepath.append(temp)\n",
        "            self.append(filepath)\n",
        "            newDF = pd.read_csv(filepath, header=0, usecols=[0,1,2,3,4,5,6])\n",
        "            self.data.append(newDF)\n",
        "\n",
        "\n",
        "    #Drop events which are incomplete from the dataframe\n",
        "    #if how=\"all\", drops only rows which are entirely NA\n",
        "    #if how=\"any\" (default) drops all rows which have an NA\n",
        "    #if resetIndex=True (default), index is reset to be sequential [0, nEvents-1],\n",
        "    #if resetIndex=False otherwise leaves original row number as index\n",
        "    def dropIncompleteEvents(self, how=\"any\", resetIndex=True):\n",
        "        self.data.dropna(inplace=True, how=how)\n",
        "        self.nEvents = self.data.shape[0]\n",
        "        if resetIndex:\n",
        "            self.data.reset_index(inplace=True, drop=True)\n",
        "\n",
        "    \n",
        "    #Def drop unwanted rows or columns from the data\n",
        "    #labels : a single label (e.g row number in index of column name) or list of such to drop\n",
        "    #axis : 0= drop row(s) (default), 1= drop column(s)\n",
        "    def drop(self, labels, axis=0, resetIndex = True):\n",
        "        self.data.drop(labels, axis=axis, inplace=True)\n",
        "        self.nEvents = self.data.shape[0]\n",
        "        if resetIndex:\n",
        "            self.data.reset_index(inplace=True, drop=True)\n",
        "\n",
        "\n",
        "    #Return a list of column names\n",
        "    def getCols(self):\n",
        "        return self.data.columns\n",
        "\n",
        "\n",
        "    #Retrieve a column from the dataframe\n",
        "    def get(self, colName, timeUnits=\"\"):\n",
        "        return self.data[colName]\n",
        "\n",
        "\n",
        "    #Add a column for time in specificed units, either \"s\" (seconds) (default) or \"m\" (minutes)\n",
        "    def addTimeCol(self, units=\"s\"):\n",
        "        timeDefault = self.get(\"Time [hh:mm:ss]\")\n",
        "        if units == \"s\":\n",
        "            timeNew = timeDefault.apply(asSeconds)\n",
        "        elif units == \"m\":\n",
        "            timeNew = timeDefault.apply(asMinutes)\n",
        "        else:\n",
        "            print(\"Unrecognized time units, use either 's' for seconds or 'm' for minutes\")\n",
        "            return\n",
        "        self.data[\"Time [\" + units + \"]\"] = timeNew\n",
        "\n",
        "\n",
        "    #Return the total time duration of the run\n",
        "    def duration(self, asSec=False, startInd=0, endInd=-1):\n",
        "        if endInd < startInd:\n",
        "            endInd = self.nEvents - 1\n",
        "        startTime = self.data.at[startInd, \"Time [hh:mm:ss]\"]\n",
        "        endTime = self.data.at[endInd, \"Time [hh:mm:ss]\"]\n",
        "        return timeDiff(endTime, startTime, asSec)\n",
        "\n",
        "\n",
        "    #Plot columns of data\n",
        "    #columns : a single or list of temp columns to plott. Can be a single column name, a single column index, or a list of either\n",
        "    #           Default is data.columns[1:6] (all four temps + pressure)\n",
        "    #timeUnits : if 's' or 'm', plot vs time in seconds or minutes respectively. Otherwise, plot against index\n",
        "    #subplots: Whether or not to give each column its own subplot.\n",
        "    #kind: the type of plot to draw. defaults to line\n",
        "    def plotCols(self, columns=None, timeUnits='s', subplots=True, kind='line'):\n",
        "\n",
        "        #Set x axis to either be time or event number (index)\n",
        "        if timeUnits != \"s\" and timeUnits != 'm':\n",
        "            x = None\n",
        "            xLabel = \"Event #\"\n",
        "        else:\n",
        "            timeStr = \"Time [\" + timeUnits + \"]\"\n",
        "            if timeStr not in self.data.columns:\n",
        "                self.addTimeCol(units=timeUnits)\n",
        "            x = timeStr\n",
        "            xLabel = timeStr\n",
        "\n",
        "        #Choose which columns to plot\n",
        "        colNames = self.getCols()\n",
        "        if columns is None:\n",
        "            cols = colNames[1:6]\n",
        "            figsize = (12, 10)\n",
        "        elif isinstance(columns, list):\n",
        "            figsize = (10, 10)\n",
        "            if isinstance(columns[0], str):\n",
        "                cols = columns\n",
        "            else:\n",
        "                cols = []\n",
        "                for colInd in columns:\n",
        "                    cols.append(colNames[colInd])\n",
        "        elif isinstance(columns, str):\n",
        "            figsize = (5, 5)\n",
        "            cols = columns\n",
        "        elif isinstance(columns, int):\n",
        "            figsize = (5, 5)\n",
        "            cols = colNames[columns]\n",
        "\n",
        "        self.data.plot(x=x, y=cols, kind=kind, subplots=subplots, figsize=figsize, title='Sensor Data, Run = \"' + self.name + '\"', xlabel=xLabel)\n",
        "\n",
        "\n"
      ],
      "metadata": {
        "id": "zJLc2693NRUJ"
      },
      "execution_count": null,
      "outputs": []
    },
    {
      "cell_type": "code",
      "source": [
        "#A class to hold data from the Ion Chamber readout\n",
        "class IonChamberRun:\n",
        "    name = \"\"\n",
        "    filepath = \"\"\n",
        "    nEvents = 0\n",
        "    data = None\n",
        "    rois = [] #List of boundaries [min, max] of regions of interest, portions of data when shutter was open (aka bright)\n",
        "    darkRegs = [] #List of boundaries [min, max] of portions of data when shutter was closed (dark current aka noise)\n",
        "\n",
        "    def __init__(self, name = \"\"):\n",
        "        self.name = name\n",
        "\n",
        "    #Attempt to read the file in filepath into a Pandas DF\n",
        "    def readFile(self, filepath, header=0, skiprows=3):\n",
        "        self.filepath = filepath\n",
        "        if self.name == \"\":\n",
        "            self.name = filepath.split(\"/\")[-1]\n",
        "        \n",
        "        self.data = pd.read_csv(filepath, header=header, skiprows=skiprows )\n",
        "        self.nEvents = self.data.shape[0]\n",
        "    \n",
        "    #Append data in filepath to the current dataframe\n",
        "    def addFile(self, filepath, header=0, skiprows=3):\n",
        "        if self.filepath == \"\":\n",
        "            self.readFile(filepath)\n",
        "        else:\n",
        "            if isinstance(self.filepath, str):\n",
        "                temp = self.filepath\n",
        "                self.filepath = []\n",
        "                self.filepath.append(temp)\n",
        "            self.append(filepath)\n",
        "            newDF = pd.read_csv(filepath, header=header, skiprows=skiprows )\n",
        "            self.data.append(newDF)\n",
        "\n",
        "    #Smooth data using a rolling average and add a new column to the dataframe\n",
        "    def smooth(self, windowSize=10):\n",
        "        newCol = self.data[\"Current [nA]\"].rolling(windowSize).mean()\n",
        "        self.data[\"Smoothed Current [nA]\"] = newCol\n",
        "        self.data.dropna()\n",
        "\n",
        "    #Plot the current vs time\n",
        "    def plot(self, kind=\"scatter\", smooth=False, incROIs=False, figsize=(10, 5)):\n",
        "        if smooth:\n",
        "            if \"Smoothed Current [nA]\" not in self.data.columns:\n",
        "                self.smooth()\n",
        "            self.data.plot(x=\"Time [s]\", y=\"Smoothed Current [nA]\", kind=kind, figsize=figsize, title='Ion Chamber Current, Run = \"' + self.name + '\"', ylabel=\"Current [nA]\")\n",
        "        else:\n",
        "            self.data.plot(x=\"Time [s]\", y=\"Current [nA]\", kind=kind, figsize=figsize, title='Ion Chamber Current, Run = \"' + self.name + '\"', ylabel=\"Current [nA]\")\n",
        "        if incROIs and (kind == \"scatter\" or kind == \"line\"):\n",
        "            ax = plt.gca()\n",
        "            yAxisLims = ax.get_ylim()\n",
        "            fig = plt.gcf()\n",
        "            for roi in self.rois:\n",
        "                plt.plot([roi[0], roi[0]], [yAxisLims[0], yAxisLims[1]], color=\"darkred\", linestyle=\"dashed\")\n",
        "                fig.show()\n",
        "                plt.plot([roi[1], roi[1]], [yAxisLims[0], yAxisLims[1]], color=\"darkred\", linestyle=\"dashed\")\n",
        "                fig.show()\n",
        "            for roi in self.darkRegs:\n",
        "                plt.plot([roi[0], roi[0]], [yAxisLims[0], yAxisLims[1]], color=\"darkmagenta\", linestyle=\"dashed\")\n",
        "                fig.show()\n",
        "                plt.plot([roi[1], roi[1]], [yAxisLims[0], yAxisLims[1]], color=\"darkmagenta\", linestyle=\"dashed\")\n",
        "                fig.show()\n",
        "\n",
        "    #Return the min, max, idx_min, idx_max of the specified column\n",
        "    #col, the colum name to consider\n",
        "    def getMinMax(self, col):\n",
        "        column = self.data[col]\n",
        "        min = column.min()\n",
        "        max = column.max()\n",
        "        idx_min = column.idxmin()\n",
        "        idx_max = column.idxmax()\n",
        "        return min, max, idx_min, idx_max\n",
        "\n",
        "    #Set regions of interest for analysis\n",
        "    #param roiTuples : a list of [min, max] boundaries or regions of interest\n",
        "    #param dark : if true, region is marked as a dark current region not an ROI. defaults to False\n",
        "    def addROIs(self, roiTuples, dark=False, clearPrev=False ):\n",
        "        if not dark:\n",
        "            if clearPrev:\n",
        "                self.rois = []\n",
        "            for roi in roiTuples:\n",
        "                self.rois.append(roi)\n",
        "        else:\n",
        "            if clearPrev:\n",
        "                self.darkRegs = []\n",
        "            for roi in roiTuples:\n",
        "                self.darkRegs.append(roi)\n",
        "\n",
        "    #Return the average value and standard deviation for the specified ROI\n",
        "    #rois = a list of regions of interest time tuples [(t_min1, t_max1), ...] to consider\n",
        "    #if rois is None, defaults to self.rois. If self.rois is empty, uses all data\n",
        "    #returns    mean, std dev, Num of points    of the region \n",
        "    def getStatsROI(self, col=\"Current [nA]\", rois=None, dark=False):\n",
        "        theROIs = []\n",
        "        if rois != None:\n",
        "            for roi in rois:\n",
        "                theROIs.append(roi)\n",
        "        elif not dark and len(self.rois) > 0:\n",
        "            theROIs = self.rois\n",
        "        elif dark and len(self.darkRegs) > 0:\n",
        "            theROIs = self.darkRegs\n",
        "        else:\n",
        "            min, max, idx_min, idx_max = self.getMinMax(col=\"Time [s]\")\n",
        "            theROIs.append((min, max))\n",
        "\n",
        "        combRegion = None\n",
        "        for roiNum, roi in enumerate(theROIs):\n",
        "            roiData = self.data[self.data[\"Time [s]\"] >= roi[0]] #Select the time window of interest\n",
        "            roiData = roiData[roiData[\"Time [s]\"] <= roi[1]]\n",
        "            roiData = roiData[col] #Only want one column of data\n",
        "\n",
        "            if roiNum == 0: #Add data to combined region\n",
        "                combRegion = roiData\n",
        "            else:\n",
        "                combRegion = pd.concat([combRegion, roiData])\n",
        "\n",
        "        mean = combRegion.mean()\n",
        "        stdDev = combRegion.std()\n",
        "        nPts = len(combRegion.index)\n",
        "\n",
        "        return mean, stdDev, nPts\n",
        "\n",
        "    #Get the average shutter open (bright) current minus the average dark current and associated uncertainty\n",
        "    def getCurrentDiff(self):\n",
        "        if len(self.rois) < 1:\n",
        "            print(\"WARNING: Please set at least one ROI first\")\n",
        "            pass\n",
        "        if len(self.darkRegs) < 1:\n",
        "            print(\"WARNING: Please set at least one ROI first\")\n",
        "            pass\n",
        "\n",
        "        avg_bright, stdDev_bright, nPts_bright = self.getStatsROI(dark=False)\n",
        "        avg_dark, stdDev_dark, nPts_dark = self.getStatsROI(dark=True)\n",
        "\n",
        "        currDiff = avg_bright - avg_dark\n",
        "        currDiffErr = stdDev_bright + stdDev_dark\n",
        "        return currDiff, currDiffErr\n",
        "\n",
        "    #Print stats cleanly\n",
        "    def summarizeStats(self):\n",
        "        avg_bright, stdDev_bright, nPts_bright = self.getStatsROI(dark=False)\n",
        "        print(\"Bright Stats : Mean = \" + str(avg_bright)[:5] + \"nA, Std Dev = \" + str(stdDev_bright)[:5] + \"nA, Npts = \" + str(nPts_bright))\n",
        "        avg_dark, stdDev_dark, nPts_dark = self.getStatsROI(dark=True)\n",
        "        print(\"Dark Stats : Mean = \" + str(avg_dark)[:5] + \"nA, Std Dev = \" + str(stdDev_dark)[:5] + \"nA, Npts = \" + str(nPts_dark))\n",
        "        currDiff, currDiffErr = self.getCurrentDiff()\n",
        "        print(\"Dark subtracted current = \" + str(currDiff)[:5] + \" , error = \" + str(currDiffErr)[:5])\n"
      ],
      "metadata": {
        "id": "zswChnPnWo41"
      },
      "execution_count": null,
      "outputs": []
    },
    {
      "cell_type": "markdown",
      "source": [
        "## IC IV Curve Making"
      ],
      "metadata": {
        "id": "iC8hbvMmtlET"
      }
    },
    {
      "cell_type": "code",
      "source": [
        "# A function to make an IV curve for IC\n",
        "#dir_path : Path (relative to main_dir)\n",
        "#tubeSettings : x-ray tube settings, current and voltage for plot labelling: e.g. \"10 mA, 40 kV\"\n",
        "#requireApproval : if true, will show a plot of the rois and darkRegions and ask for approval\n",
        "def makeIVcurve(dir_path, tubeSettings, defaultBrightRois=[(140, 290)], defaultDarkRegs=[(10, 100)], requireApproval=False):\n",
        "    voltages = []\n",
        "    currents = []\n",
        "    errors = []\n",
        "\n",
        "    for file in os.listdir(main_path + dir_path):\n",
        "        voltage = file.split(\".\")[0].split(\"_\")[1][:-1] #Extract voltage from the filename, expected format is ivCurve_###V.csv\n",
        "        voltages.append(int(voltage))\n",
        "\n",
        "        icRun = IonChamberRun()\n",
        "        icRun.readFile(main_path + dir_path + file)\n",
        "        \n",
        "\n",
        "        rois=defaultBrightRois #Designate a portion of data as bright (shutter open)\n",
        "        icRun.addROIs(rois, dark=False, clearPrev=True)\n",
        "        darkRegs=defaultDarkRegs #Designate a portion of data to measure dark current (shutter closed)\n",
        "        icRun.addROIs(darkRegs, dark=True, clearPrev=True)\n",
        "\n",
        "        if requireApproval:\n",
        "            print(\"\\n The next plot...\")\n",
        "            icRun.plot(incROIs=True, figsize=(5, 4))\n",
        "            plt.pause(1)\n",
        "            approval = input(\"Are the default bright and dark regions ok? (y/n): \")\n",
        "            if approval != \"y\":\n",
        "\n",
        "                print(\"\\nEnter the minima and maxima of new bright and dark regions\")\n",
        "                print(\"Starting with bright regions... Enter nothing when ready to continue to dark regions\")\n",
        "                newRois = []\n",
        "                while(True):\n",
        "                    min = input(\"Enter bright region minimum: \")\n",
        "                    max = input(\"Enter bright region maximum: \")\n",
        "                    if len(min) == 0 or len(max) == 0:\n",
        "                        break\n",
        "                    min = int(min)\n",
        "                    max = int(max)\n",
        "                    newRois.append((min, max))\n",
        "                icRun.addROIs(newRois, dark=False, clearPrev=True)\n",
        "                    \n",
        "                print(\"Continuing with dark regions... Enter nothing when done entering dark regions\")\n",
        "                darkRegs = []\n",
        "                while(True):\n",
        "                    min = input(\"Enter dark region minimum: \")\n",
        "                    max = input(\"Enter dark region maximum: \")\n",
        "                    if len(min) == 0 or len(max) == 0:\n",
        "                        break\n",
        "                    min = int(min)\n",
        "                    max = int(max)\n",
        "                    darkRegs.append((min, max))\n",
        "                icRun.addROIs(darkRegs, dark=True, clearPrev=True)\n",
        "            print(\"The new regions...\")\n",
        "            icRun.plot(incROIs=True, figsize=(5, 4))\n",
        "            plt.pause(1)\n",
        "            plt.clf()\n",
        "\n",
        "        currDiff, error = icRun.getCurrentDiff() #Get bright-dark current and associated error\n",
        "        currents.append(currDiff)\n",
        "        errors.append(error)\n",
        "\n",
        "\n",
        "    fig = plt.figure(figsize=(15,10))\n",
        "    plt.errorbar(x=voltages, y=currents, fmt='bo', yerr=errors, color=\"blue\", ls='none')\n",
        "    plt.title(\"Ion Chamber Response: Tube Settings = \" + str(tubeSettings))\n",
        "    plt.xlabel(\"Actual Voltage [V]\")\n",
        "    plt.ylabel(\"Current [nA]\")\n",
        "    \n",
        "    fig.show()\n",
        "\n",
        "    print(\"Voltages: \" + str(voltages))\n",
        "    print(\"Currents: \" + str(currents))\n",
        "    print(\"Current Uncertainties: \" + str(errors))"
      ],
      "metadata": {
        "id": "XEnkrkimtq2s"
      },
      "execution_count": null,
      "outputs": []
    },
    {
      "cell_type": "markdown",
      "source": [
        "# Examples and Testing"
      ],
      "metadata": {
        "id": "8pWh72_4khSe"
      }
    },
    {
      "cell_type": "markdown",
      "source": [
        "## Read a file into a SensorRun object"
      ],
      "metadata": {
        "id": "KPnrgl0pChIf"
      }
    },
    {
      "cell_type": "code",
      "source": [
        "testRun = SensorRun(\"Test Run\")\n",
        "filepath = main_path + \"testFile.csv\"\n",
        "testRun.readFile(filepath)\n",
        "testRun.dropIncompleteEvents(how=\"any\")\n",
        "testRun.data\n"
      ],
      "metadata": {
        "id": "fTZU_NxlkjKs"
      },
      "execution_count": null,
      "outputs": []
    },
    {
      "cell_type": "markdown",
      "source": [
        "## Examples with times"
      ],
      "metadata": {
        "id": "ipHyyfogCsUn"
      }
    },
    {
      "cell_type": "code",
      "source": [
        "dur = testRun.duration(asSec=False, startInd=20, endInd=21)\n",
        "dur"
      ],
      "metadata": {
        "id": "9-NxeRYZl6J7"
      },
      "execution_count": null,
      "outputs": []
    },
    {
      "cell_type": "code",
      "source": [
        "testRun.addTimeCol(units=\"s\")\n",
        "testRun.addTimeCol(units=\"m\")\n",
        "testRun.data"
      ],
      "metadata": {
        "id": "GGt0MNMz81JX"
      },
      "execution_count": null,
      "outputs": []
    },
    {
      "cell_type": "markdown",
      "source": [
        "## Try Dropping Unwanted Rows"
      ],
      "metadata": {
        "id": "IOISKQGXFsvU"
      }
    },
    {
      "cell_type": "code",
      "source": [
        "testRun.drop(9, axis=0, resetIndex=True) #Drop row 9 and relabel rows sequentially\n",
        "testRun.data"
      ],
      "metadata": {
        "id": "AZg5n2kpFsVT"
      },
      "execution_count": null,
      "outputs": []
    },
    {
      "cell_type": "markdown",
      "source": [
        "## Make Plots"
      ],
      "metadata": {
        "id": "0BGgTBtzYao4"
      }
    },
    {
      "cell_type": "code",
      "source": [
        "testRun.plotCols(columns=[1,4,5], kind='line')"
      ],
      "metadata": {
        "id": "9Wc-nvvXk-wJ"
      },
      "execution_count": null,
      "outputs": []
    },
    {
      "cell_type": "markdown",
      "source": [
        "## Ion Chamber Examples\n"
      ],
      "metadata": {
        "id": "rj2Wda_lgqRZ"
      }
    },
    {
      "cell_type": "code",
      "source": [
        "main_path  += \"IonChamberOutputs/\"\n",
        "ionRun_556 = IonChamberRun(\"IC Tun ,SetV = 556\")\n",
        "ionRun_556.readFile(main_path + \"icTest_556setV_15Jul22.csv\")\n",
        "ionRun_556.plot(smooth=True)\n",
        "ionRun_556.addROIs([(60,200), (350, 500)], dark=False, clearPrev=True)\n",
        "ionRun_556.addROIs([(10,40), (250, 290), (550, 590)], dark=True, clearPrev=True)\n",
        "ionRun_556.rois\n",
        "ionRun_556.plot(smooth=True,incROIs=True)\n",
        "ionRun_556.summarizeStats()"
      ],
      "metadata": {
        "id": "MwMWhA9egori"
      },
      "execution_count": null,
      "outputs": []
    },
    {
      "cell_type": "code",
      "source": [
        "ionRun.plot(kind=\"scatter\")"
      ],
      "metadata": {
        "id": "8WU2mb3eg_V5"
      },
      "execution_count": null,
      "outputs": []
    },
    {
      "cell_type": "markdown",
      "source": [
        "## IC IV Curve Making Example"
      ],
      "metadata": {
        "id": "eeXZI1j8ts2N"
      }
    },
    {
      "cell_type": "code",
      "source": [
        "#ONLY RUN THIS IF NOT RUN IN THE ION CHAMBER EXAMPLES SECTION\n",
        "main_path  += \"IonChamberOutputs/\""
      ],
      "metadata": {
        "id": "NwR2o75EtzUE"
      },
      "execution_count": null,
      "outputs": []
    },
    {
      "cell_type": "code",
      "source": [
        "makeIVcurve(dir_path=\"IV_Curve_20Jul22/\", tubeSettings=\"10 mA, 40 kV\", requireApproval=False)"
      ],
      "metadata": {
        "id": "JV142yfNtwLx"
      },
      "execution_count": null,
      "outputs": []
    }
  ]
}